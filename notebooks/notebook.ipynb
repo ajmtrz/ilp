{
 "cells": [
  {
   "cell_type": "code",
   "execution_count": 1,
   "id": "f17716db",
   "metadata": {},
   "outputs": [],
   "source": [
    "import sys\n",
    "import os\n",
    "import json\n",
    "\n",
    "sys.path.insert(0, os.path.abspath(os.path.join(os.getcwd(), \"..\")))\n",
    "from Raydium.adapter.RaydiumAdapter import RaydiumAdapter\n",
    "from SaucerSwap.adapter.SaucerSwapAdapter import SaucerSwapAdapter"
   ]
  },
  {
   "cell_type": "code",
   "execution_count": 2,
   "id": "81e9e9c1",
   "metadata": {},
   "outputs": [
    {
     "name": "stdout",
     "output_type": "stream",
     "text": [
      "owner_evm: 0x3845BbD7047E65A1336a42B647487f5dc4baD93A owner_id: 0.0.9637418\n",
      "helper_evm: 0x000000000000000000000000000000000058a2ba spender_id: 0.0.5808826\n",
      "whbar_evm: 0x0000000000000000000000000000000000163b5a token_id: 0.0.1456986\n",
      "erc20.allowance(owner, helper): 0\n",
      "mirror allowances: {\n",
      "  \"allowances\": [],\n",
      "  \"links\": {\n",
      "    \"next\": null\n",
      "  }\n",
      "}\n",
      "approve_hts_execute: {'executed': True, 'status': '<com.hedera.hashgraph.sdk.Status at 0x7af98a5d1770 jclass=com/hedera/hashgraph/sdk/Status jself=<LocalRef obj=0x6257efeb1c72 at 0x7afa113df430>>'}\n",
      "mirror allowances after approve: {\n",
      "  \"allowances\": [],\n",
      "  \"links\": {\n",
      "    \"next\": null\n",
      "  }\n",
      "}\n"
     ]
    }
   ],
   "source": [
    "import requests, json\n",
    "\n",
    "CONFIG_PATH = \"/root/Repositorios/LiquidityProvider/SaucerSwap/config/hedera.saucerswap.yaml\"\n",
    "adapter = SaucerSwapAdapter(CONFIG_PATH)\n",
    "\n",
    "owner_evm = adapter.evm_address\n",
    "helper_evm = adapter._get_whbar_helper_address()\n",
    "token_evm  = adapter._whbar_helper_token_address()\n",
    "owner_id   = adapter.account_id\n",
    "token_id   = adapter._evm_to_hts(token_evm)    # esperado: 0.0.1456986\n",
    "spender_id = adapter._evm_to_hts(helper_evm)   # esperado: 0.0.5808826\n",
    "\n",
    "print(\"owner_evm:\", owner_evm, \"owner_id:\", owner_id)\n",
    "print(\"helper_evm:\", helper_evm, \"spender_id:\", spender_id)\n",
    "print(\"whbar_evm:\", token_evm, \"token_id:\", token_id)\n",
    "\n",
    "# 1) Allowance vía ERC-20 (referencial)\n",
    "print(\"erc20.allowance(owner, helper):\", adapter._erc20_allowance(token_evm, owner_evm, helper_evm))\n",
    "\n",
    "# 2) Allowance vía Mirror Node (la fuente de verdad HTS)\n",
    "base = \"https://mainnet.mirrornode.hedera.com/api/v1\"\n",
    "url = f\"{base}/accounts/{owner_id}/allowances/tokens?spender.id={spender_id}&token.id={token_id}\"\n",
    "r = requests.get(url, timeout=15); r.raise_for_status()\n",
    "data = r.json()\n",
    "print(\"mirror allowances:\", json.dumps(data, indent=2))\n",
    "\n",
    "# 3) Si no hay allowance, forzar approve HTS (SDK) y re-chequear en mirror\n",
    "if not data.get(\"allowances\"):\n",
    "    res = adapter.approve_hts_execute(token_id=token_id, spender_contract_id=spender_id)\n",
    "    print(\"approve_hts_execute:\", res)\n",
    "    r2 = requests.get(url, timeout=15); r2.raise_for_status()\n",
    "    print(\"mirror allowances after approve:\", json.dumps(r2.json(), indent=2))"
   ]
  },
  {
   "cell_type": "code",
   "execution_count": 3,
   "id": "1a35ccc3",
   "metadata": {},
   "outputs": [
    {
     "name": "stdout",
     "output_type": "stream",
     "text": [
      "Owner: 0x3845BbD7047E65A1336a42B647487f5dc4baD93A\n",
      "WhbarHelper: 0x000000000000000000000000000000000058a2ba\n",
      "WHBAR token: 0x0000000000000000000000000000000000163b5a\n",
      "Balance WHBAR before (raw): 666374960 human: 6.6637496\n",
      "Sweep result: {'executed': True, 'tx': {'txHash': '0x7374c9504b6d5908011437a0f16a269d808fe0135a2511025a2cfd573d04c2ea', 'receipt': {'blockHash': '0x358d013a176420fff5f7597d9d508985bdc4d08f478cbe9887560c55248082b1', 'blockNumber': '0x50bba2c', 'from': '0x3845bbd7047e65a1336a42b647487f5dc4bad93a', 'to': '0x000000000000000000000000000000000058a2ba', 'cumulativeGasUsed': '0xc54e6', 'gasUsed': '0xc54e6', 'contractAddress': '0x000000000000000000000000000000000058a2ba', 'logs': [{'address': '0x000000000000000000000000000000000058a2ba', 'blockHash': '0x358d013a176420fff5f7597d9d508985bdc4d08f478cbe9887560c55248082b1', 'blockNumber': '0x50bba2c', 'data': '0x0000000000000000000000000000000000000000000000000000000027b81330', 'logIndex': '0x0', 'removed': False, 'topics': ['0x5f2147fb558c977441fbdfebcf8cd5776606adc8da5ff95566fc2a4137e54d13', '0x000000000000000000000000000000000000000000000000000000000058a2ba', '0x000000000000000000000000000000000000000000000000000000000058a2ba', '0x0000000000000000000000000000000000000000000000000000000000163b5a'], 'transactionHash': '0x7374c9504b6d5908011437a0f16a269d808fe0135a2511025a2cfd573d04c2ea', 'transactionIndex': '0x4'}, {'address': '0x0000000000000000000000000000000000163b5a', 'blockHash': '0x358d013a176420fff5f7597d9d508985bdc4d08f478cbe9887560c55248082b1', 'blockNumber': '0x50bba2c', 'data': '0x0000000000000000000000000000000000000000000000000000000027b81330', 'logIndex': '0x1', 'removed': False, 'topics': ['0x8c5be1e5ebec7d5bd14f71427d1e84f3dd0314c0f7b2291e5b200ac8c7c3b925', '0x000000000000000000000000000000000000000000000000000000000058a2ba', '0x0000000000000000000000000000000000000000000000000000000000163b59'], 'transactionHash': '0x7374c9504b6d5908011437a0f16a269d808fe0135a2511025a2cfd573d04c2ea', 'transactionIndex': '0x4'}, {'address': '0x000000000000000000000000000000000058a2ba', 'blockHash': '0x358d013a176420fff5f7597d9d508985bdc4d08f478cbe9887560c55248082b1', 'blockNumber': '0x50bba2c', 'data': '0x0000000000000000000000000000000000000000000000000000000027b81330', 'logIndex': '0x2', 'removed': False, 'topics': ['0xfc6e1b96b4caab661daf52d767b3bd85a80ff8991da1727f8d8ffc831d598bca', '0x000000000000000000000000000000000000000000000000000000000058a2ba', '0x0000000000000000000000000000000000000000000000000000000000163b59', '0x0000000000000000000000000000000000000000000000000000000000163b5a'], 'transactionHash': '0x7374c9504b6d5908011437a0f16a269d808fe0135a2511025a2cfd573d04c2ea', 'transactionIndex': '0x4'}, {'address': '0x0000000000000000000000000000000000163b59', 'blockHash': '0x358d013a176420fff5f7597d9d508985bdc4d08f478cbe9887560c55248082b1', 'blockNumber': '0x50bba2c', 'data': '0x0000000000000000000000000000000000000000000000000000000027b81330', 'logIndex': '0x3', 'removed': False, 'topics': ['0x831ac82b07fb396dafef0077cea6e002235d88e63f35cbd5df2c065107f1e74a', '0x000000000000000000000000000000000000000000000000000000000058a2ba', '0x0000000000000000000000000000000000000000000000000000000000163b59'], 'transactionHash': '0x7374c9504b6d5908011437a0f16a269d808fe0135a2511025a2cfd573d04c2ea', 'transactionIndex': '0x4'}, {'address': '0x0000000000000000000000000000000000163b59', 'blockHash': '0x358d013a176420fff5f7597d9d508985bdc4d08f478cbe9887560c55248082b1', 'blockNumber': '0x50bba2c', 'data': '0x0000000000000000000000000000000000000000000000000000000027b81330', 'logIndex': '0x4', 'removed': False, 'topics': ['0x831ac82b07fb396dafef0077cea6e002235d88e63f35cbd5df2c065107f1e74a', '0x000000000000000000000000000000000000000000000000000000000058a2ba', '0x0000000000000000000000000000000000000000000000000000000000000000'], 'transactionHash': '0x7374c9504b6d5908011437a0f16a269d808fe0135a2511025a2cfd573d04c2ea', 'transactionIndex': '0x4'}, {'address': '0x0000000000000000000000000000000000163b59', 'blockHash': '0x358d013a176420fff5f7597d9d508985bdc4d08f478cbe9887560c55248082b1', 'blockNumber': '0x50bba2c', 'data': '0x0000000000000000000000000000000000000000000000000000000027b81330', 'logIndex': '0x5', 'removed': False, 'topics': ['0x2717ead6b9200dd235aad468c9809ea400fe33ac69b5bfaa6d3e90fc922b6398', '0x000000000000000000000000000000000000000000000000000000000058a2ba', '0x0000000000000000000000003845bbd7047e65a1336a42b647487f5dc4bad93a'], 'transactionHash': '0x7374c9504b6d5908011437a0f16a269d808fe0135a2511025a2cfd573d04c2ea', 'transactionIndex': '0x4'}], 'logsBloom': '0x000000000004001000010000000000000000000000000001000000000000000000000000000000800000000000008000000000000000000000000040082000000100400000000000000000000000000000000000000000010002080000000000000000000200000000000000002008000000000000000000000040400000000000008000000000000008002000000000000000000800000000000000000000000200800010000000000000000000000000000000000000000000000000000000000820010000000000000000000000000002000000001000000000200000200000100000000000040000000000000000000000000000c0100000000000000000', 'transactionHash': '0x7374c9504b6d5908011437a0f16a269d808fe0135a2511025a2cfd573d04c2ea', 'transactionIndex': '0x4', 'effectiveGasPrice': '0x517da02c00', 'root': '0x56e81f171bcc55a6ff8345e692c0f86e5b48e01b996cadc001622fb5e363b421', 'status': '0x1', 'type': '0x0'}}, 'amount': 666374960}\n",
      "Balance WHBAR after (raw): 0 human: 0.0\n"
     ]
    }
   ],
   "source": [
    "CONFIG_PATH = \"/root/Repositorios/LiquidityProvider/SaucerSwap/config/hedera.saucerswap.yaml\"\n",
    "adapter = SaucerSwapAdapter(CONFIG_PATH)\n",
    "\n",
    "owner = adapter.evm_address\n",
    "helper = adapter._get_whbar_helper_address()\n",
    "whbar  = adapter._whbar_helper_token_address()  # token WHBAR desde el helper\n",
    "\n",
    "print(\"Owner:\", owner)\n",
    "print(\"WhbarHelper:\", helper)\n",
    "print(\"WHBAR token:\", whbar)\n",
    "\n",
    "# Mostrar balance antes\n",
    "bal_before = adapter._erc20_balance_of(whbar, owner)\n",
    "print(\"Balance WHBAR before (raw):\", bal_before, \"human:\", (bal_before or 0)/1e8)\n",
    "\n",
    "# Barrer: approve si falta y unwrapWhbar(balance)\n",
    "sweep = adapter._whbar_sweep_unwrap(owner)\n",
    "print(\"Sweep result:\", sweep)\n",
    "\n",
    "# Balance después\n",
    "bal_after = adapter._erc20_balance_of(whbar, owner)\n",
    "print(\"Balance WHBAR after (raw):\", bal_after, \"human:\", (bal_after or 0)/1e8)"
   ]
  },
  {
   "cell_type": "code",
   "execution_count": null,
   "id": "5391cbb8",
   "metadata": {},
   "outputs": [],
   "source": []
  }
 ],
 "metadata": {
  "kernelspec": {
   "display_name": "vscode",
   "language": "python",
   "name": "python3"
  },
  "language_info": {
   "codemirror_mode": {
    "name": "ipython",
    "version": 3
   },
   "file_extension": ".py",
   "mimetype": "text/x-python",
   "name": "python",
   "nbconvert_exporter": "python",
   "pygments_lexer": "ipython3",
   "version": "3.12.11"
  }
 },
 "nbformat": 4,
 "nbformat_minor": 5
}
