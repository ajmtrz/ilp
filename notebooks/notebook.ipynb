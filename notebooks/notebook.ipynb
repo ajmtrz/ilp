{
 "cells": [
  {
   "cell_type": "code",
   "execution_count": 1,
   "id": "55e03ee5",
   "metadata": {},
   "outputs": [],
   "source": [
    "import sys\n",
    "import os\n",
    "import json\n",
    "\n",
    "sys.path.insert(0, os.path.abspath(os.path.join(os.getcwd(), \"..\")))"
   ]
  },
  {
   "cell_type": "code",
   "execution_count": 2,
   "id": "1a6e74f5",
   "metadata": {},
   "outputs": [
    {
     "name": "stdout",
     "output_type": "stream",
     "text": [
      "{'id': 9, 'contractId': '0.0.3964804', 'tokenA': {'decimals': 6, 'icon': 'https://dwk1opv266jxs.cloudfront.net/icons/tokens/0.0.456858.png', 'id': '0.0.456858', 'name': 'USD Coin', 'price': '420915953', 'priceUsd': 0.9992505564946996, 'symbol': 'USDC', 'dueDiligenceComplete': True, 'isFeeOnTransferToken': False, 'description': 'USDC is a fully collateralized U.S. dollar stablecoin. USDC is the bridge between dollars and trading on cryptocurrency exchanges. The technology behind CENTRE makes it possible to exchange value between people, businesses and financial institutions just like email between mail services and texts between SMS providers. They believe by removing artificial economic borders, we can create a more inclusive global economy.', 'website': 'https://www.circle.com/en/usdc-multichain/hedera', 'sentinelReport': None, 'twitterHandle': 'circle', 'timestampSecondsLastListingChange': 0, 'createdAt': None, 'listingType': None, 'discord': None, 'telegram': None, 'category': None, 'metadataKey': 'notFound', 'isBlacklistedAnalytics': None}, 'tokenB': {'decimals': 8, 'icon': 'https://dwk1opv266jxs.cloudfront.net/icons/tokens/0.0.1456986.png', 'id': '0.0.1456986', 'name': 'WHBAR [new]', 'price': '100000000', 'priceUsd': 0.23739907, 'symbol': 'HBAR', 'dueDiligenceComplete': True, 'isFeeOnTransferToken': False, 'description': 'Hedera is a public, open source, proof-of-stake network, with native cryptocurrency HBAR.  HBAR is used to pay application transaction fees and protect the network from attack through proof-of-stake. When HBAR is staked to network nodes, it has a weighted influence on consensus for validating transactions.  Developers use HBAR to pay for network services, such as transferring tokens, minting fungible and non-fungible tokens, calling smart contracts, and logging data. For every transaction submitted to the network, HBAR is used to pay fees that compensate validator nodes for bandwidth, compute, and storage.', 'website': 'https://hedera.com/', 'sentinelReport': None, 'twitterHandle': 'hedera', 'timestampSecondsLastListingChange': 0, 'createdAt': None, 'listingType': None, 'discord': None, 'telegram': None, 'category': None, 'metadataKey': 'notFound', 'isBlacklistedAnalytics': None}, 'amountA': '7407557883573', 'amountB': '5251984596076923', 'fee': 1500, 'sqrtRatioX96': '1626797497599065512141551495104', 'tickCurrent': 60443, 'liquidity': '1186407389774330', 'ticks': []}\n"
     ]
    }
   ],
   "source": [
    "from adapters.SaucerSwap.adapter.SaucerSwapAdapter import SaucerSwapAdapter\n",
    "\n",
    "ss = SaucerSwapAdapter(\"/root/Repositorios/idl/adapters/SaucerSwap/config/hedera.saucerswap.yaml\")\n",
    "info = ss.get_pool_info(9)  # o \"9\"\n",
    "print(info)"
   ]
  },
  {
   "cell_type": "code",
   "execution_count": null,
   "id": "fd87f8d2",
   "metadata": {},
   "outputs": [],
   "source": []
  }
 ],
 "metadata": {
  "kernelspec": {
   "display_name": "vscode",
   "language": "python",
   "name": "python3"
  },
  "language_info": {
   "codemirror_mode": {
    "name": "ipython",
    "version": 3
   },
   "file_extension": ".py",
   "mimetype": "text/x-python",
   "name": "python",
   "nbconvert_exporter": "python",
   "pygments_lexer": "ipython3",
   "version": "3.12.11"
  }
 },
 "nbformat": 4,
 "nbformat_minor": 5
}
