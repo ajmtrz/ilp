{
 "cells": [
  {
   "cell_type": "code",
   "execution_count": null,
   "id": "80ba9ba4",
   "metadata": {},
   "outputs": [],
   "source": [
    "import sys\n",
    "import os\n",
    "import json\n",
    "\n",
    "sys.path.insert(0, os.path.abspath(os.path.join(os.getcwd(), \"..\")))\n",
    "from Raydium.adapter.RaydiumAdapter import RaydiumAdapter\n",
    "from SaucerSwap.adapter.SaucerSwapAdapter import SaucerSwapAdapter\n",
    "\n",
    "def print_pretty_position(title, position):\n",
    "    \"\"\"\n",
    "    Imprime de forma legible y clara la información de una posición.\n",
    "    Si la posición existe, muestra los detalles relevantes.\n",
    "    Si no existe, muestra el motivo o error.\n",
    "    \"\"\"\n",
    "    print(\"=\" * 60)\n",
    "    print(f\"{title}\")\n",
    "    print(\"=\" * 60)\n",
    "    if position.get(\"exists\"):\n",
    "        print(\"✅ Posición encontrada:\")\n",
    "        # Imprime los detalles de forma legible (indentado)\n",
    "        print(json.dumps(position[\"details\"], indent=2, ensure_ascii=False))\n",
    "    else:\n",
    "        print(\"❌ Posición NO encontrada.\")\n",
    "        detalles = position.get(\"details\", {})\n",
    "        if detalles:\n",
    "            print(\"Detalles:\")\n",
    "            print(json.dumps(detalles, indent=2, ensure_ascii=False))\n",
    "    print(\"\\n\")\n",
    "\n",
    "# Consulta y muestra la posición en Raydium\n",
    "adapter = RaydiumAdapter(\"../Raydium/config/solana.raydium.yaml\")\n",
    "res_raydium = adapter.check_position_exists_tool(\n",
    "    position_nft_mint=\"GBYTTW6jMYGZUN5p4sLCVR14LMtaJqLWpjzD79k7FyLw\"\n",
    ")\n",
    "print_pretty_position(\"Raydium (Solana)\", res_raydium)\n",
    "\n",
    "# Consulta y muestra la posición en SaucerSwap\n",
    "adapter = SaucerSwapAdapter(\"/root/Repositorios/LiquidityProvider/SaucerSwap/config/hedera.saucerswap.yaml\")\n",
    "res_saucer = adapter.check_position_exists_tool(serial=67538)\n",
    "print_pretty_position(\"SaucerSwap (Hedera)\", res_saucer)\n"
   ]
  },
  {
   "cell_type": "code",
   "execution_count": null,
   "id": "68f312df",
   "metadata": {},
   "outputs": [],
   "source": []
  }
 ],
 "metadata": {
  "kernelspec": {
   "display_name": "vscode",
   "language": "python",
   "name": "python3"
  },
  "language_info": {
   "codemirror_mode": {
    "name": "ipython",
    "version": 3
   },
   "file_extension": ".py",
   "mimetype": "text/x-python",
   "name": "python",
   "nbconvert_exporter": "python",
   "pygments_lexer": "ipython3",
   "version": "3.12.11"
  }
 },
 "nbformat": 4,
 "nbformat_minor": 5
}
