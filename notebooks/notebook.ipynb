{
 "cells": [
  {
   "cell_type": "code",
   "execution_count": 1,
   "id": "80ba9ba4",
   "metadata": {},
   "outputs": [
    {
     "name": "stderr",
     "output_type": "stream",
     "text": [
      "2025-09-14 15:54:41,631 INFO [RaydiumAdapter] RaydiumAdapter inicializado (cluster=mainnet-beta, endpoints=1)\n"
     ]
    },
    {
     "name": "stdout",
     "output_type": "stream",
     "text": [
      "{'exists': True, 'details': {'bump': [255], 'fee_growth_inside_0_last_x64': '7828903933548108', 'fee_growth_inside_1_last_x64': '1963056009606400', 'liquidity': '86835618986', 'nft_mint': 'GBYTTW6jMYGZUN5p4sLCVR14LMtaJqLWpjzD79k7FyLw', 'padding': [0, 0, 0, 0, 0, 0, 0], 'pool_id': '3ucNos4NbumPLZNWztqGHNFFgkHeRMBQAVemeeomsUxv', 'recent_epoch': 848, 'reward_infos': [{'growth_inside_last_x64': '22829906762133', 'reward_amount_owed': 40876}, {'growth_inside_last_x64': '0', 'reward_amount_owed': 0}, {'growth_inside_last_x64': '0', 'reward_amount_owed': 0}], 'tick_lower_index': -15351, 'tick_upper_index': -13344, 'token_fees_owed_0': 11884142, 'token_fees_owed_1': 2844684}}\n"
     ]
    }
   ],
   "source": [
    "import sys\n",
    "import os\n",
    "sys.path.insert(0, os.path.abspath(os.path.join(os.getcwd(), \"..\")))\n",
    "from Raydium.adapter.RaydiumAdapter import RaydiumAdapter\n",
    "\n",
    "adapter = RaydiumAdapter(\"../Raydium/config/solana.raydium.yaml\")\n",
    "res = adapter.check_position_exists_tool(\n",
    "    position_nft_mint=\"GBYTTW6jMYGZUN5p4sLCVR14LMtaJqLWpjzD79k7FyLw\"\n",
    "    )\n",
    "print(res)"
   ]
  }
 ],
 "metadata": {
  "kernelspec": {
   "display_name": "vscode",
   "language": "python",
   "name": "python3"
  },
  "language_info": {
   "codemirror_mode": {
    "name": "ipython",
    "version": 3
   },
   "file_extension": ".py",
   "mimetype": "text/x-python",
   "name": "python",
   "nbconvert_exporter": "python",
   "pygments_lexer": "ipython3",
   "version": "3.12.11"
  }
 },
 "nbformat": 4,
 "nbformat_minor": 5
}
